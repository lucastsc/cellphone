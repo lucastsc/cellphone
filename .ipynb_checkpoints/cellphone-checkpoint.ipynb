{
 "cells": [
  {
   "cell_type": "code",
   "execution_count": 52,
   "id": "c73139ab",
   "metadata": {
    "ExecuteTime": {
     "end_time": "2022-12-09T15:34:53.929517Z",
     "start_time": "2022-12-09T15:34:53.925538Z"
    }
   },
   "outputs": [],
   "source": [
    "import pandas as pd\n",
    "import numpy as np\n",
    "import matplotlib.pyplot as plt\n",
    "pd.set_option('display.max_columns', None)"
   ]
  },
  {
   "cell_type": "markdown",
   "id": "d6c9c2d2",
   "metadata": {},
   "source": [
    "### Leitura dos dados\n",
    "- Dados provenientes do site Kaggle\n",
    "- https://www.kaggle.com/datasets/iabhishekofficial/mobile-price-classification\n",
    "- Dataset previamente dividido em treino e teste"
   ]
  },
  {
   "cell_type": "markdown",
   "id": "bcb511b0",
   "metadata": {},
   "source": [
    "Carregamento dos dados"
   ]
  },
  {
   "cell_type": "code",
   "execution_count": 2,
   "id": "8729c1fe",
   "metadata": {
    "ExecuteTime": {
     "end_time": "2022-12-09T14:08:10.675855Z",
     "start_time": "2022-12-09T14:08:10.641275Z"
    }
   },
   "outputs": [],
   "source": [
    "celltrain = pd.read_csv('cellphone-data-train.csv')\n",
    "celltest = pd.read_csv('cellphone-data-test.csv')"
   ]
  },
  {
   "cell_type": "markdown",
   "id": "36a31f2d",
   "metadata": {},
   "source": [
    "Dicionário de dados"
   ]
  },
  {
   "cell_type": "markdown",
   "id": "e0a9a29d",
   "metadata": {},
   "source": [
    "<div>\n",
    "    <table>\n",
    "  <tr>\n",
    "    <th><span style='background-color:lightgrey'>battery_power:</span></th>\n",
    "    <th><span style='background-color:lightgrey'>blue:</span></th>\n",
    "    <th><span style='background-color:lightgrey'>clock_speed:</span></th>\n",
    "    <th><span style='background-color:lightgrey'>dual_sim:</span></th>\n",
    "    <th><span style='background-color:lightgrey'>fc:</span></th>\n",
    "    <th><span style='background-color:lightgrey'>four_g:</span></th>\n",
    "    <th><span style='background-color:lightgrey'>int_memory:</span></th>\n",
    "  </tr>\n",
    "  <tr>\n",
    "    <td>Total energy a battery can store in one time measured in mAh</td>\n",
    "    <td>Has bluetooth or not</td>\n",
    "    <td>speed at which microprocessor executes instructions</td>\n",
    "    <td>Has dual sim support or not</td>\n",
    "    <td>Front Camera mega pixels</td>\n",
    "    <td>Has 4G or not</td>\n",
    "    <td>Internal Memory in Gigabytes</td>\n",
    "  </tr>\n",
    "  <tr>\n",
    "    <th><span style='background-color:lightgrey'>m_dep:</span></th>\n",
    "    <th><span style='background-color:lightgrey'>mobile_wt:</span></th>\n",
    "    <th><span style='background-color:lightgrey'>n_cores:</span></th>\n",
    "    <th><span style='background-color:lightgrey'>pc:</span></th>\n",
    "    <th><span style='background-color:lightgrey'>px_height:</span></th>\n",
    "    <th><span style='background-color:lightgrey'>px_width:</span></th>\n",
    "    <th><span style='background-color:lightgrey'>ram:</span></th>\n",
    "  </tr>\n",
    "  <tr>\n",
    "    <td>Mobile Depth in cm</td>\n",
    "    <td>Weight of mobile phone</td>\n",
    "    <td>Number of cores of processor</td>\n",
    "    <td>Primary Camera mega pixels</td>\n",
    "    <td>Pixel Resolution Height</td>\n",
    "    <td>Pixel Resolution Width</td>\n",
    "    <td>Random Access Memory in Mega Bytes</td>\n",
    "  </tr>\n",
    "  <tr>\n",
    "    <th><span style='background-color:lightgrey'>sc_h:</span></th>\n",
    "    <th><span style='background-color:lightgrey'>sc_w:</span></th>\n",
    "    <th><span style='background-color:lightgrey'>talk_time:</span></th>\n",
    "    <th><span style='background-color:lightgrey'>three_g:</span></th>\n",
    "    <th><span style='background-color:lightgrey'>touch_screen:</span></th>\n",
    "    <th><span style='background-color:lightgrey'>wifi:</span></th>\n",
    "    <th><span style='background-color:lightgrey'>price_range:</span></th>\n",
    "  </tr>\n",
    "  <tr>\n",
    "    <td>Screen Height of mobile in cm</td>\n",
    "    <td>Screen Width of mobile in cm</td>\n",
    "    <td>longest time that a single battery charge will last when you are</td>\n",
    "    <td>Has 3G or not</td>\n",
    "    <td>Has touch screen or not</td>\n",
    "    <td>Has wifi or not</td>\n",
    "    <td>This is the target variable with value of 0(low cost), 1(medium cost), 2(high cost) and 3(very high cost).</td>\n",
    "  </tr>\n",
    "</table>\n",
    "</div>"
   ]
  },
  {
   "cell_type": "markdown",
   "id": "16c445d2",
   "metadata": {},
   "source": [
    "Primeiros registros"
   ]
  },
  {
   "cell_type": "code",
   "execution_count": 33,
   "id": "62570b27",
   "metadata": {
    "ExecuteTime": {
     "end_time": "2022-12-09T14:30:44.679272Z",
     "start_time": "2022-12-09T14:30:44.672290Z"
    }
   },
   "outputs": [
    {
     "name": "stdout",
     "output_type": "stream",
     "text": [
      "celltrain shape:(2000, 21)\n"
     ]
    }
   ],
   "source": [
    "celltrain.head(3)\n",
    "print(f'celltrain shape:{celltrain.shape}')"
   ]
  },
  {
   "cell_type": "markdown",
   "id": "316dcb7c",
   "metadata": {},
   "source": [
    "Resumo sobre os dados\n",
    "    \n",
    "OBS:\n",
    "battery_power, fc, int_memory, mobile_wt, n_cores, pc, px_height, px_width, ram, sc_h, sc_w, talk_time são passíveis de normalização, pois destoam das demais ordens de grandeza.\n"
   ]
  },
  {
   "cell_type": "code",
   "execution_count": 11,
   "id": "cb33700e",
   "metadata": {
    "ExecuteTime": {
     "end_time": "2022-12-09T14:16:52.029701Z",
     "start_time": "2022-12-09T14:16:51.961906Z"
    }
   },
   "outputs": [
    {
     "name": "stdout",
     "output_type": "stream",
     "text": [
      "<class 'pandas.core.frame.DataFrame'>\n",
      "RangeIndex: 2000 entries, 0 to 1999\n",
      "Data columns (total 21 columns):\n",
      " #   Column         Non-Null Count  Dtype  \n",
      "---  ------         --------------  -----  \n",
      " 0   battery_power  2000 non-null   int64  \n",
      " 1   blue           2000 non-null   int64  \n",
      " 2   clock_speed    2000 non-null   float64\n",
      " 3   dual_sim       2000 non-null   int64  \n",
      " 4   fc             2000 non-null   int64  \n",
      " 5   four_g         2000 non-null   int64  \n",
      " 6   int_memory     2000 non-null   int64  \n",
      " 7   m_dep          2000 non-null   float64\n",
      " 8   mobile_wt      2000 non-null   int64  \n",
      " 9   n_cores        2000 non-null   int64  \n",
      " 10  pc             2000 non-null   int64  \n",
      " 11  px_height      2000 non-null   int64  \n",
      " 12  px_width       2000 non-null   int64  \n",
      " 13  ram            2000 non-null   int64  \n",
      " 14  sc_h           2000 non-null   int64  \n",
      " 15  sc_w           2000 non-null   int64  \n",
      " 16  talk_time      2000 non-null   int64  \n",
      " 17  three_g        2000 non-null   int64  \n",
      " 18  touch_screen   2000 non-null   int64  \n",
      " 19  wifi           2000 non-null   int64  \n",
      " 20  price_range    2000 non-null   int64  \n",
      "dtypes: float64(2), int64(19)\n",
      "memory usage: 328.2 KB\n"
     ]
    },
    {
     "data": {
      "text/html": [
       "<div>\n",
       "<style scoped>\n",
       "    .dataframe tbody tr th:only-of-type {\n",
       "        vertical-align: middle;\n",
       "    }\n",
       "\n",
       "    .dataframe tbody tr th {\n",
       "        vertical-align: top;\n",
       "    }\n",
       "\n",
       "    .dataframe thead th {\n",
       "        text-align: right;\n",
       "    }\n",
       "</style>\n",
       "<table border=\"1\" class=\"dataframe\">\n",
       "  <thead>\n",
       "    <tr style=\"text-align: right;\">\n",
       "      <th></th>\n",
       "      <th>battery_power</th>\n",
       "      <th>blue</th>\n",
       "      <th>clock_speed</th>\n",
       "      <th>dual_sim</th>\n",
       "      <th>fc</th>\n",
       "      <th>four_g</th>\n",
       "      <th>int_memory</th>\n",
       "      <th>m_dep</th>\n",
       "      <th>mobile_wt</th>\n",
       "      <th>n_cores</th>\n",
       "      <th>pc</th>\n",
       "      <th>px_height</th>\n",
       "      <th>px_width</th>\n",
       "      <th>ram</th>\n",
       "      <th>sc_h</th>\n",
       "      <th>sc_w</th>\n",
       "      <th>talk_time</th>\n",
       "      <th>three_g</th>\n",
       "      <th>touch_screen</th>\n",
       "      <th>wifi</th>\n",
       "      <th>price_range</th>\n",
       "    </tr>\n",
       "  </thead>\n",
       "  <tbody>\n",
       "    <tr>\n",
       "      <th>count</th>\n",
       "      <td>2000.000000</td>\n",
       "      <td>2000.0000</td>\n",
       "      <td>2000.000000</td>\n",
       "      <td>2000.000000</td>\n",
       "      <td>2000.000000</td>\n",
       "      <td>2000.000000</td>\n",
       "      <td>2000.000000</td>\n",
       "      <td>2000.000000</td>\n",
       "      <td>2000.000000</td>\n",
       "      <td>2000.000000</td>\n",
       "      <td>2000.000000</td>\n",
       "      <td>2000.000000</td>\n",
       "      <td>2000.000000</td>\n",
       "      <td>2000.000000</td>\n",
       "      <td>2000.000000</td>\n",
       "      <td>2000.000000</td>\n",
       "      <td>2000.000000</td>\n",
       "      <td>2000.000000</td>\n",
       "      <td>2000.000000</td>\n",
       "      <td>2000.000000</td>\n",
       "      <td>2000.000000</td>\n",
       "    </tr>\n",
       "    <tr>\n",
       "      <th>mean</th>\n",
       "      <td>1238.518500</td>\n",
       "      <td>0.4950</td>\n",
       "      <td>1.522250</td>\n",
       "      <td>0.509500</td>\n",
       "      <td>4.309500</td>\n",
       "      <td>0.521500</td>\n",
       "      <td>32.046500</td>\n",
       "      <td>0.501750</td>\n",
       "      <td>140.249000</td>\n",
       "      <td>4.520500</td>\n",
       "      <td>9.916500</td>\n",
       "      <td>645.108000</td>\n",
       "      <td>1251.515500</td>\n",
       "      <td>2124.213000</td>\n",
       "      <td>12.306500</td>\n",
       "      <td>5.767000</td>\n",
       "      <td>11.011000</td>\n",
       "      <td>0.761500</td>\n",
       "      <td>0.503000</td>\n",
       "      <td>0.507000</td>\n",
       "      <td>1.500000</td>\n",
       "    </tr>\n",
       "    <tr>\n",
       "      <th>std</th>\n",
       "      <td>439.418206</td>\n",
       "      <td>0.5001</td>\n",
       "      <td>0.816004</td>\n",
       "      <td>0.500035</td>\n",
       "      <td>4.341444</td>\n",
       "      <td>0.499662</td>\n",
       "      <td>18.145715</td>\n",
       "      <td>0.288416</td>\n",
       "      <td>35.399655</td>\n",
       "      <td>2.287837</td>\n",
       "      <td>6.064315</td>\n",
       "      <td>443.780811</td>\n",
       "      <td>432.199447</td>\n",
       "      <td>1084.732044</td>\n",
       "      <td>4.213245</td>\n",
       "      <td>4.356398</td>\n",
       "      <td>5.463955</td>\n",
       "      <td>0.426273</td>\n",
       "      <td>0.500116</td>\n",
       "      <td>0.500076</td>\n",
       "      <td>1.118314</td>\n",
       "    </tr>\n",
       "    <tr>\n",
       "      <th>min</th>\n",
       "      <td>501.000000</td>\n",
       "      <td>0.0000</td>\n",
       "      <td>0.500000</td>\n",
       "      <td>0.000000</td>\n",
       "      <td>0.000000</td>\n",
       "      <td>0.000000</td>\n",
       "      <td>2.000000</td>\n",
       "      <td>0.100000</td>\n",
       "      <td>80.000000</td>\n",
       "      <td>1.000000</td>\n",
       "      <td>0.000000</td>\n",
       "      <td>0.000000</td>\n",
       "      <td>500.000000</td>\n",
       "      <td>256.000000</td>\n",
       "      <td>5.000000</td>\n",
       "      <td>0.000000</td>\n",
       "      <td>2.000000</td>\n",
       "      <td>0.000000</td>\n",
       "      <td>0.000000</td>\n",
       "      <td>0.000000</td>\n",
       "      <td>0.000000</td>\n",
       "    </tr>\n",
       "    <tr>\n",
       "      <th>25%</th>\n",
       "      <td>851.750000</td>\n",
       "      <td>0.0000</td>\n",
       "      <td>0.700000</td>\n",
       "      <td>0.000000</td>\n",
       "      <td>1.000000</td>\n",
       "      <td>0.000000</td>\n",
       "      <td>16.000000</td>\n",
       "      <td>0.200000</td>\n",
       "      <td>109.000000</td>\n",
       "      <td>3.000000</td>\n",
       "      <td>5.000000</td>\n",
       "      <td>282.750000</td>\n",
       "      <td>874.750000</td>\n",
       "      <td>1207.500000</td>\n",
       "      <td>9.000000</td>\n",
       "      <td>2.000000</td>\n",
       "      <td>6.000000</td>\n",
       "      <td>1.000000</td>\n",
       "      <td>0.000000</td>\n",
       "      <td>0.000000</td>\n",
       "      <td>0.750000</td>\n",
       "    </tr>\n",
       "    <tr>\n",
       "      <th>50%</th>\n",
       "      <td>1226.000000</td>\n",
       "      <td>0.0000</td>\n",
       "      <td>1.500000</td>\n",
       "      <td>1.000000</td>\n",
       "      <td>3.000000</td>\n",
       "      <td>1.000000</td>\n",
       "      <td>32.000000</td>\n",
       "      <td>0.500000</td>\n",
       "      <td>141.000000</td>\n",
       "      <td>4.000000</td>\n",
       "      <td>10.000000</td>\n",
       "      <td>564.000000</td>\n",
       "      <td>1247.000000</td>\n",
       "      <td>2146.500000</td>\n",
       "      <td>12.000000</td>\n",
       "      <td>5.000000</td>\n",
       "      <td>11.000000</td>\n",
       "      <td>1.000000</td>\n",
       "      <td>1.000000</td>\n",
       "      <td>1.000000</td>\n",
       "      <td>1.500000</td>\n",
       "    </tr>\n",
       "    <tr>\n",
       "      <th>75%</th>\n",
       "      <td>1615.250000</td>\n",
       "      <td>1.0000</td>\n",
       "      <td>2.200000</td>\n",
       "      <td>1.000000</td>\n",
       "      <td>7.000000</td>\n",
       "      <td>1.000000</td>\n",
       "      <td>48.000000</td>\n",
       "      <td>0.800000</td>\n",
       "      <td>170.000000</td>\n",
       "      <td>7.000000</td>\n",
       "      <td>15.000000</td>\n",
       "      <td>947.250000</td>\n",
       "      <td>1633.000000</td>\n",
       "      <td>3064.500000</td>\n",
       "      <td>16.000000</td>\n",
       "      <td>9.000000</td>\n",
       "      <td>16.000000</td>\n",
       "      <td>1.000000</td>\n",
       "      <td>1.000000</td>\n",
       "      <td>1.000000</td>\n",
       "      <td>2.250000</td>\n",
       "    </tr>\n",
       "    <tr>\n",
       "      <th>max</th>\n",
       "      <td>1998.000000</td>\n",
       "      <td>1.0000</td>\n",
       "      <td>3.000000</td>\n",
       "      <td>1.000000</td>\n",
       "      <td>19.000000</td>\n",
       "      <td>1.000000</td>\n",
       "      <td>64.000000</td>\n",
       "      <td>1.000000</td>\n",
       "      <td>200.000000</td>\n",
       "      <td>8.000000</td>\n",
       "      <td>20.000000</td>\n",
       "      <td>1960.000000</td>\n",
       "      <td>1998.000000</td>\n",
       "      <td>3998.000000</td>\n",
       "      <td>19.000000</td>\n",
       "      <td>18.000000</td>\n",
       "      <td>20.000000</td>\n",
       "      <td>1.000000</td>\n",
       "      <td>1.000000</td>\n",
       "      <td>1.000000</td>\n",
       "      <td>3.000000</td>\n",
       "    </tr>\n",
       "  </tbody>\n",
       "</table>\n",
       "</div>"
      ],
      "text/plain": [
       "       battery_power       blue  clock_speed     dual_sim           fc  \\\n",
       "count    2000.000000  2000.0000  2000.000000  2000.000000  2000.000000   \n",
       "mean     1238.518500     0.4950     1.522250     0.509500     4.309500   \n",
       "std       439.418206     0.5001     0.816004     0.500035     4.341444   \n",
       "min       501.000000     0.0000     0.500000     0.000000     0.000000   \n",
       "25%       851.750000     0.0000     0.700000     0.000000     1.000000   \n",
       "50%      1226.000000     0.0000     1.500000     1.000000     3.000000   \n",
       "75%      1615.250000     1.0000     2.200000     1.000000     7.000000   \n",
       "max      1998.000000     1.0000     3.000000     1.000000    19.000000   \n",
       "\n",
       "            four_g   int_memory        m_dep    mobile_wt      n_cores  \\\n",
       "count  2000.000000  2000.000000  2000.000000  2000.000000  2000.000000   \n",
       "mean      0.521500    32.046500     0.501750   140.249000     4.520500   \n",
       "std       0.499662    18.145715     0.288416    35.399655     2.287837   \n",
       "min       0.000000     2.000000     0.100000    80.000000     1.000000   \n",
       "25%       0.000000    16.000000     0.200000   109.000000     3.000000   \n",
       "50%       1.000000    32.000000     0.500000   141.000000     4.000000   \n",
       "75%       1.000000    48.000000     0.800000   170.000000     7.000000   \n",
       "max       1.000000    64.000000     1.000000   200.000000     8.000000   \n",
       "\n",
       "                pc    px_height     px_width          ram         sc_h  \\\n",
       "count  2000.000000  2000.000000  2000.000000  2000.000000  2000.000000   \n",
       "mean      9.916500   645.108000  1251.515500  2124.213000    12.306500   \n",
       "std       6.064315   443.780811   432.199447  1084.732044     4.213245   \n",
       "min       0.000000     0.000000   500.000000   256.000000     5.000000   \n",
       "25%       5.000000   282.750000   874.750000  1207.500000     9.000000   \n",
       "50%      10.000000   564.000000  1247.000000  2146.500000    12.000000   \n",
       "75%      15.000000   947.250000  1633.000000  3064.500000    16.000000   \n",
       "max      20.000000  1960.000000  1998.000000  3998.000000    19.000000   \n",
       "\n",
       "              sc_w    talk_time      three_g  touch_screen         wifi  \\\n",
       "count  2000.000000  2000.000000  2000.000000   2000.000000  2000.000000   \n",
       "mean      5.767000    11.011000     0.761500      0.503000     0.507000   \n",
       "std       4.356398     5.463955     0.426273      0.500116     0.500076   \n",
       "min       0.000000     2.000000     0.000000      0.000000     0.000000   \n",
       "25%       2.000000     6.000000     1.000000      0.000000     0.000000   \n",
       "50%       5.000000    11.000000     1.000000      1.000000     1.000000   \n",
       "75%       9.000000    16.000000     1.000000      1.000000     1.000000   \n",
       "max      18.000000    20.000000     1.000000      1.000000     1.000000   \n",
       "\n",
       "       price_range  \n",
       "count  2000.000000  \n",
       "mean      1.500000  \n",
       "std       1.118314  \n",
       "min       0.000000  \n",
       "25%       0.750000  \n",
       "50%       1.500000  \n",
       "75%       2.250000  \n",
       "max       3.000000  "
      ]
     },
     "execution_count": 11,
     "metadata": {},
     "output_type": "execute_result"
    }
   ],
   "source": [
    "celltrain.info()\n",
    "celltrain.describe()"
   ]
  },
  {
   "cell_type": "markdown",
   "id": "bde11f5f",
   "metadata": {},
   "source": [
    "Histogramas de cada atributo\n",
    "    \n",
    "OBS: \n",
    "    -há um percential de 50% de telefones com baixo clock (<1.5Ghz), câmera frontal de baixa resolução (<3MP), baixa memória interna (<30GB) e pequeno comprimento de tela (<5cm). Provavelmente se refere a telefones mais antigos.\n",
    "    "
   ]
  },
  {
   "cell_type": "code",
   "execution_count": 34,
   "id": "a0a8e6a6",
   "metadata": {
    "ExecuteTime": {
     "end_time": "2022-12-09T14:41:21.154895Z",
     "start_time": "2022-12-09T14:41:18.862900Z"
    }
   },
   "outputs": [
    {
     "data": {
      "image/png": "[encoded data removed]",
      "text/plain": [
       "<Figure size 1296x1296 with 25 Axes>"
      ]
     },
     "metadata": {
      "needs_background": "light"
     },
     "output_type": "display_data"
    }
   ],
   "source": [
    "def plot_histograms(df):\n",
    "    rows = 5\n",
    "    cols = 5\n",
    "    fig, axs = plt.subplots(rows,cols,figsize=(18,18))\n",
    "    for i,nf in enumerate(df.columns):\n",
    "        axs[i//cols, i%cols].hist(df[nf])\n",
    "        axs[i//cols, i%cols].set_title(nf)\n",
    "        axs[i//cols, i%cols].axvline(df[nf].quantile(0.5), color='red')\n",
    "plot_histograms(celltrain)"
   ]
  },
  {
   "cell_type": "markdown",
   "id": "139f3688",
   "metadata": {},
   "source": [
    "Feature engineering: polegadas e densidade de pixels(pixels por polegada)\n",
    "    \n",
    "OBS:observa-se que há uma porcentagem de 50% de smartphones com baixa densidade de pixels (<300ppi)."
   ]
  },
  {
   "cell_type": "code",
   "execution_count": 40,
   "id": "0c7c4e2d",
   "metadata": {
    "ExecuteTime": {
     "end_time": "2022-12-09T15:16:02.239331Z",
     "start_time": "2022-12-09T15:16:02.101932Z"
    }
   },
   "outputs": [
    {
     "data": {
      "text/plain": [
       "<matplotlib.lines.Line2D at 0x2131072cdc0>"
      ]
     },
     "execution_count": 40,
     "metadata": {},
     "output_type": "execute_result"
    },
    {
     "data": {
      "image/png": "[encoded data removed]",
      "text/plain": [
       "<Figure size 432x288 with 1 Axes>"
      ]
     },
     "metadata": {
      "needs_background": "light"
     },
     "output_type": "display_data"
    }
   ],
   "source": [
    "#polegadas\n",
    "celltrain['pol'] = ((celltrain['sc_w'] ** 2 + celltrain['sc_h'] ** 2) ** 0.5) / 2.54\n",
    "\n",
    "#pixels por polegada\n",
    "celltrain['ppi'] = ((celltrain['px_width'] ** 2 + celltrain['px_height'] ** 2) ** 0.5) / celltrain['pol']\n",
    "celltrain.head(5)\n",
    "\n",
    "plt.hist(celltrain['ppi']);\n",
    "plt.axvline(celltrain['ppi'].quantile(0.5), color='red')"
   ]
  },
  {
   "cell_type": "code",
   "execution_count": null,
   "id": "ece3f4a3",
   "metadata": {},
   "outputs": [],
   "source": []
  },
  {
   "cell_type": "code",
   "execution_count": 61,
   "id": "48f1900e",
   "metadata": {
    "ExecuteTime": {
     "end_time": "2022-12-09T15:37:23.081426Z",
     "start_time": "2022-12-09T15:37:22.945735Z"
    }
   },
   "outputs": [
    {
     "name": "stdout",
     "output_type": "stream",
     "text": [
      "Correlação:0.40310101902598583\n"
     ]
    },
    {
     "data": {
      "image/png": "[encoded data removed]",
      "text/plain": [
       "<Figure size 432x288 with 1 Axes>"
      ]
     },
     "metadata": {
      "needs_background": "light"
     },
     "output_type": "display_data"
    }
   ],
   "source": [
    "grp = celltrain.groupby(by=['talk_time'])['battery_power'].mean()\n",
    "x = pd.Series(grp.index) #talk time\n",
    "y = pd.Series(grp.values) #battery power\n",
    "plt.scatter(y,x) #battery power x talk time\n",
    "plt.xlabel('Battery power')\n",
    "plt.ylabel('Talk time')\n",
    "print(f'Correlação:{x.corr(y)}')"
   ]
  }
 ],
 "metadata": {
  "hide_input": false,
  "kernelspec": {
   "display_name": "Python 3",
   "language": "python",
   "name": "python3"
  },
  "language_info": {
   "codemirror_mode": {
    "name": "ipython",
    "version": 3
   },
   "file_extension": ".py",
   "mimetype": "text/x-python",
   "name": "python",
   "nbconvert_exporter": "python",
   "pygments_lexer": "ipython3",
   "version": "3.8.8"
  },
  "varInspector": {
   "cols": {
    "lenName": 16,
    "lenType": 16,
    "lenVar": 40
   },
   "kernels_config": {
    "python": {
     "delete_cmd_postfix": "",
     "delete_cmd_prefix": "del ",
     "library": "var_list.py",
     "varRefreshCmd": "print(var_dic_list())"
    },
    "r": {
     "delete_cmd_postfix": ") ",
     "delete_cmd_prefix": "rm(",
     "library": "var_list.r",
     "varRefreshCmd": "cat(var_dic_list()) "
    }
   },
   "types_to_exclude": [
    "module",
    "function",
    "builtin_function_or_method",
    "instance",
    "_Feature"
   ],
   "window_display": false
  }
 },
 "nbformat": 4,
 "nbformat_minor": 5
}
